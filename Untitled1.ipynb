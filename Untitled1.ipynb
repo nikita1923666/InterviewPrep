{
 "cells": [
  {
   "cell_type": "code",
   "execution_count": 1,
   "id": "19420538",
   "metadata": {},
   "outputs": [],
   "source": [
    "import numpy as np"
   ]
  },
  {
   "cell_type": "code",
   "execution_count": 2,
   "id": "9eee9008",
   "metadata": {},
   "outputs": [],
   "source": [
    "X = np.array([[1,1], [0,0], [5,5], [5,10], [-1, -1], [1000, 1000], [1500, 2000], [1400, 1020], [1023, 10003], [123000, 100230]])\n",
    "Y = np.array([0, 0, 0, 0, 0, 1, 1, 1, 1, 1])"
   ]
  },
  {
   "cell_type": "code",
   "execution_count": null,
   "id": "8a9aca25",
   "metadata": {},
   "outputs": [],
   "source": [
    "def forward_pass(x):\n",
    "    return 1 / (1 + np.exp(w * X + b)) "
   ]
  }
 ],
 "metadata": {
  "kernelspec": {
   "display_name": "Python 3 (ipykernel)",
   "language": "python",
   "name": "python3"
  },
  "language_info": {
   "codemirror_mode": {
    "name": "ipython",
    "version": 3
   },
   "file_extension": ".py",
   "mimetype": "text/x-python",
   "name": "python",
   "nbconvert_exporter": "python",
   "pygments_lexer": "ipython3",
   "version": "3.9.12"
  }
 },
 "nbformat": 4,
 "nbformat_minor": 5
}
