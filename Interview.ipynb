{
 "cells": [
  {
   "cell_type": "code",
   "execution_count": 2,
   "id": "56ed6ebe",
   "metadata": {},
   "outputs": [],
   "source": [
    "# cat -> c<u>a</u>t\n",
    "# cot -> c<u>o</u>t\n",
    "# GIT -> G<u>IT</u>\n",
    "# Got -> <u>Go</u>t\n",
    "# Ciz -> Ci<u>z</u>"
   ]
  },
  {
   "cell_type": "code",
   "execution_count": 208,
   "id": "2a9967c0",
   "metadata": {},
   "outputs": [],
   "source": [
    "in_pat = [\"cat\", \"cot\", \"GIT\", \"Got\", \"Wombat\", \"BOAT\", \"DOG\"]\n",
    "out_pat = [\"c<u>a<u/>t\", \"c<o>t\", \"<G>IT\", \"<Go>t\", \"<u>W</u>ombat\"]"
   ]
  },
  {
   "cell_type": "code",
   "execution_count": 209,
   "id": "fcc13b22",
   "metadata": {},
   "outputs": [],
   "source": [
    "def preproc(word):\n",
    "    result = set()\n",
    "    for i in range(1, len(word) + 1):\n",
    "        for j in range(0, len(word)):\n",
    "            if j + i > len(word):\n",
    "                continue\n",
    "            result.add(word[j:(j + i)].lower())\n",
    "    return result "
   ]
  },
  {
   "cell_type": "code",
   "execution_count": 210,
   "id": "c8b14b95",
   "metadata": {},
   "outputs": [
    {
     "data": {
      "text/plain": [
       "{'a', 'ak', 'aka', 'k', 'ka', 'kak', 'kaka'}"
      ]
     },
     "execution_count": 210,
     "metadata": {},
     "output_type": "execute_result"
    }
   ],
   "source": [
    "preproc(\"KAKA\")"
   ]
  },
  {
   "cell_type": "code",
   "execution_count": 211,
   "id": "9e2765b6",
   "metadata": {},
   "outputs": [],
   "source": [
    "def convert(in_pat):\n",
    "    result = []\n",
    "    sortest = [None] * len(in_pat)\n",
    "    sets = []\n",
    "    \n",
    "    for pattern in in_pat:\n",
    "        sets.append(preproc(pattern))\n",
    "    \n",
    "    sets_unique = sets.copy()\n",
    "    \n",
    "    for i in range(0, len(sets)):\n",
    "        for j in range(0, len(sets)):\n",
    "            if i != j:\n",
    "                sets_unique[i] = sets_unique[i].difference(sets[j])\n",
    "                \n",
    "    print(f\"Sets - {sets_unique}\")\n",
    "                \n",
    "    for i in range(0, len(sets_unique)):\n",
    "        for word in sets_unique[i]:\n",
    "            if not sortest[i] or len(word) < len(sortest[i]):\n",
    "                sortest[i] = word\n",
    "    \n",
    "    print(f\"Sortest - {sortest}\")\n",
    "    \n",
    "    for i, pattern in enumerate(in_pat):\n",
    "        start = pattern.lower().index(sortest[i])\n",
    "        end = start + len(sortest[i])\n",
    "        print(sortest[i], pattern, start, end)\n",
    "        ss = pattern[:start]\n",
    "        sm = pattern[start:end]\n",
    "        se = pattern[end:]\n",
    "        result.append(ss + \"<u>\" + sm  + \"</u>\" + se)\n",
    "    return result"
   ]
  },
  {
   "cell_type": "code",
   "execution_count": 212,
   "id": "ce01878b",
   "metadata": {},
   "outputs": [
    {
     "name": "stdout",
     "output_type": "stream",
     "text": [
      "Sets - [{'cat', 'ca'}, {'cot', 'co'}, {'i', 'gi', 'it', 'git'}, {'go', 'got'}, {'omb', 'mba', 'w', 'wo', 'wom', 'bat', 'm', 'omba', 'om', 'mbat', 'ombat', 'ba', 'wombat', 'womb', 'mb', 'womba'}, {'oat', 'boat', 'boa', 'bo', 'oa'}, {'do', 'd', 'og', 'dog'}]\n",
      "Sortest - ['ca', 'co', 'i', 'go', 'w', 'bo', 'd']\n",
      "ca cat 0 2\n",
      "co cot 0 2\n",
      "i GIT 1 2\n",
      "go Got 0 2\n",
      "w Wombat 0 1\n",
      "bo BOAT 0 2\n",
      "d DOG 0 1\n"
     ]
    },
    {
     "data": {
      "text/plain": [
       "['<u>ca</u>t',\n",
       " '<u>co</u>t',\n",
       " 'G<u>I</u>T',\n",
       " '<u>Go</u>t',\n",
       " '<u>W</u>ombat',\n",
       " '<u>BO</u>AT',\n",
       " '<u>D</u>OG']"
      ]
     },
     "execution_count": 212,
     "metadata": {},
     "output_type": "execute_result"
    }
   ],
   "source": [
    "convert(in_pat)"
   ]
  },
  {
   "cell_type": "code",
   "execution_count": 213,
   "id": "f0c7dfdf",
   "metadata": {},
   "outputs": [
    {
     "ename": "NameError",
     "evalue": "name 'Mem' is not defined",
     "output_type": "error",
     "traceback": [
      "\u001b[0;31m---------------------------------------------------------------------------\u001b[0m",
      "\u001b[0;31mNameError\u001b[0m                                 Traceback (most recent call last)",
      "Input \u001b[0;32mIn [213]\u001b[0m, in \u001b[0;36m<cell line: 1>\u001b[0;34m()\u001b[0m\n\u001b[0;32m----> 1\u001b[0m \u001b[43mMem\u001b[49m(O(n\u001b[38;5;241m^\u001b[39m\u001b[38;5;241m3\u001b[39m))\n\u001b[1;32m      2\u001b[0m Time(O(n\u001b[38;5;241m^\u001b[39m\u001b[38;5;241m2\u001b[39m))\n",
      "\u001b[0;31mNameError\u001b[0m: name 'Mem' is not defined"
     ]
    }
   ],
   "source": [
    "Mem(O(n^3))\n",
    "Time(O(n^2))"
   ]
  },
  {
   "cell_type": "code",
   "execution_count": null,
   "id": "971d0ae0",
   "metadata": {},
   "outputs": [],
   "source": []
  }
 ],
 "metadata": {
  "kernelspec": {
   "display_name": "Python 3 (ipykernel)",
   "language": "python",
   "name": "python3"
  },
  "language_info": {
   "codemirror_mode": {
    "name": "ipython",
    "version": 3
   },
   "file_extension": ".py",
   "mimetype": "text/x-python",
   "name": "python",
   "nbconvert_exporter": "python",
   "pygments_lexer": "ipython3",
   "version": "3.9.12"
  }
 },
 "nbformat": 4,
 "nbformat_minor": 5
}
